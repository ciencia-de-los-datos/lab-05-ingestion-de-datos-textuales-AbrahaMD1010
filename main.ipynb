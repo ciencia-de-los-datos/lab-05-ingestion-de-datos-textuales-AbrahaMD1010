{
 "cells": [
  {
   "cell_type": "code",
   "execution_count": 11,
   "metadata": {},
   "outputs": [],
   "source": [
    "import pandas as pd\n",
    "import numpy as np\n",
    "from pathlib import Path"
   ]
  },
  {
   "cell_type": "code",
   "execution_count": 12,
   "metadata": {},
   "outputs": [
    {
     "name": "stdout",
     "output_type": "stream",
     "text": [
      "data\\test\n",
      "\t data\\test\\negative\n",
      "\t data\\test\\neutral\n",
      "\t data\\test\\positive\n",
      "data\\train\n",
      "\t data\\train\\negative\n",
      "\t data\\train\\neutral\n",
      "\t data\\train\\positive\n"
     ]
    }
   ],
   "source": [
    "carpeta_data = Path(\"./data\")\n",
    "test = []\n",
    "train = []\n",
    "for carpeta in carpeta_data.iterdir():\n",
    "    if carpeta.name == \"__MACOSX\":\n",
    "        continue\n",
    "\n",
    "    print(carpeta)\n",
    "    for estado in carpeta.iterdir():\n",
    "        if estado.name == \".DS_Store\":\n",
    "            continue\n",
    "\n",
    "        print(\"\\t\", estado)\n",
    "        for archivo in estado.glob(\"*.txt\"):\n",
    "            frase = archivo.read_text()\n",
    "            sentimiento = estado.name\n",
    "            if carpeta.name == \"test\":\n",
    "                test.append((frase, sentimiento))\n",
    "\n",
    "            if carpeta.name == \"train\":\n",
    "                train.append((frase, sentimiento))"
   ]
  },
  {
   "cell_type": "code",
   "execution_count": 13,
   "metadata": {},
   "outputs": [
    {
     "data": {
      "text/plain": [
       "[('Jan. 6 -- Ford is struggling in the face of slowing truck and SUV sales and a surfeit of up-to-date , gotta-have cars ',\n",
       "  'negative'),\n",
       " ('( ADPnews ) - Feb 3 , 2010 - Finland-based steel maker Rautaruukki Oyj ( HEL : RTRKS ) , or Ruukki , said today it slipped to a larger-than-expected pretax loss of EUR 46 million ( USD 64.5 m ) in the fourth quarter of 2009 from ',\n",
       "  'negative'),\n",
       " ('In Q2 of 2009 , profit before taxes amounted to EUR 13.6 mn , down from EUR 26.8 mn in Q2 of 2008 ',\n",
       "  'negative')]"
      ]
     },
     "execution_count": 13,
     "metadata": {},
     "output_type": "execute_result"
    }
   ],
   "source": [
    "test[:3]"
   ]
  },
  {
   "cell_type": "code",
   "execution_count": 17,
   "metadata": {},
   "outputs": [
    {
     "ename": "IndexError",
     "evalue": "tuple index out of range",
     "output_type": "error",
     "traceback": [
      "\u001b[1;31m---------------------------------------------------------------------------\u001b[0m",
      "\u001b[1;31mIndexError\u001b[0m                                Traceback (most recent call last)",
      "Cell \u001b[1;32mIn[17], line 1\u001b[0m\n\u001b[1;32m----> 1\u001b[0m \u001b[43mtest\u001b[49m\u001b[43m[\u001b[49m\u001b[38;5;241;43m0\u001b[39;49m\u001b[43m]\u001b[49m\u001b[43m[\u001b[49m\u001b[38;5;241;43m2\u001b[39;49m\u001b[43m]\u001b[49m\u001b[38;5;241m.\u001b[39mread_text()\n",
      "\u001b[1;31mIndexError\u001b[0m: tuple index out of range"
     ]
    }
   ],
   "source": [
    "test[0][2].read_text()"
   ]
  },
  {
   "cell_type": "code",
   "execution_count": 15,
   "metadata": {},
   "outputs": [],
   "source": [
    "test_df = pd.DataFrame(test, columns=[\"phrase\", \"sentiment\"])\n",
    "train_df = pd.DataFrame(train, columns=[\"phrase\", \"sentiment\"])"
   ]
  },
  {
   "cell_type": "code",
   "execution_count": 16,
   "metadata": {},
   "outputs": [],
   "source": [
    "train_df.to_csv(\"train_dataset.csv\", index=False)\n",
    "test_df.to_csv(\"test_dataset.csv\", index=False)"
   ]
  }
 ],
 "metadata": {
  "kernelspec": {
   "display_name": "Python 3",
   "language": "python",
   "name": "python3"
  },
  "language_info": {
   "codemirror_mode": {
    "name": "ipython",
    "version": 3
   },
   "file_extension": ".py",
   "mimetype": "text/x-python",
   "name": "python",
   "nbconvert_exporter": "python",
   "pygments_lexer": "ipython3",
   "version": "3.11.5"
  }
 },
 "nbformat": 4,
 "nbformat_minor": 2
}
